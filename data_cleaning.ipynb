{
 "cells": [
  {
   "cell_type": "code",
   "execution_count": 1,
   "id": "8a11f617-d7fe-4078-8048-dede9c142330",
   "metadata": {},
   "outputs": [],
   "source": [
    "import pandas as pd\n",
    "import numpy as np"
   ]
  },
  {
   "cell_type": "code",
   "execution_count": 2,
   "id": "5d7d2fa0-fc5d-43a5-b533-86c9919e3591",
   "metadata": {},
   "outputs": [],
   "source": [
    "# Load dataset\n",
    "df = pd.read_csv(\"AB_NYC_2019.csv\")\n"
   ]
  },
  {
   "cell_type": "code",
   "execution_count": 3,
   "id": "f881a99d-0ddb-4c6a-9aca-38709f82dc2f",
   "metadata": {},
   "outputs": [
    {
     "name": "stdout",
     "output_type": "stream",
     "text": [
      "Original Dataset Shape: (48895, 16)\n",
      "\n",
      "Missing Values:\n",
      " id                                    0\n",
      "name                                 16\n",
      "host_id                               0\n",
      "host_name                            21\n",
      "neighbourhood_group                   0\n",
      "neighbourhood                         0\n",
      "latitude                              0\n",
      "longitude                             0\n",
      "room_type                             0\n",
      "price                                 0\n",
      "minimum_nights                        0\n",
      "number_of_reviews                     0\n",
      "last_review                       10052\n",
      "reviews_per_month                 10052\n",
      "calculated_host_listings_count        0\n",
      "availability_365                      0\n",
      "dtype: int64\n"
     ]
    }
   ],
   "source": [
    "print(\"Original Dataset Shape:\", df.shape)\n",
    "print(\"\\nMissing Values:\\n\", df.isnull().sum())\n"
   ]
  },
  {
   "cell_type": "code",
   "execution_count": 7,
   "id": "6b1abbfb-2885-455f-a1c9-5d482a5c451c",
   "metadata": {},
   "outputs": [
    {
     "data": {
      "text/plain": [
       "0        0.210000\n",
       "1        0.380000\n",
       "2        1.373221\n",
       "3        4.640000\n",
       "4        0.100000\n",
       "           ...   \n",
       "48890    1.373221\n",
       "48891    1.373221\n",
       "48892    1.373221\n",
       "48893    1.373221\n",
       "48894    1.373221\n",
       "Name: reviews_per_month, Length: 48895, dtype: float64"
      ]
     },
     "execution_count": 7,
     "metadata": {},
     "output_type": "execute_result"
    }
   ],
   "source": [
    "# Fill missing reviews_per_month with mean\n",
    "df['reviews_per_month'].fillna(df['reviews_per_month'].mean())"
   ]
  },
  {
   "cell_type": "code",
   "execution_count": 9,
   "id": "2fc6c737-7f31-4b3f-90a5-42c86d77118c",
   "metadata": {},
   "outputs": [
    {
     "data": {
      "text/plain": [
       "0                 John\n",
       "1             Jennifer\n",
       "2            Elisabeth\n",
       "3          LisaRoxanne\n",
       "4                Laura\n",
       "             ...      \n",
       "48890          Sabrina\n",
       "48891          Marisol\n",
       "48892    Ilgar & Aysel\n",
       "48893              Taz\n",
       "48894       Christophe\n",
       "Name: host_name, Length: 48895, dtype: object"
      ]
     },
     "execution_count": 9,
     "metadata": {},
     "output_type": "execute_result"
    }
   ],
   "source": [
    "# Fill missing name and host_name with \"unknown\"\n",
    "df['name'].fillna(\"unknown\")\n",
    "df['host_name'].fillna(\"unknown\")"
   ]
  },
  {
   "cell_type": "code",
   "execution_count": 10,
   "id": "16b7e6f4-1dcb-4b3d-a46b-5049da1c4cc4",
   "metadata": {},
   "outputs": [
    {
     "data": {
      "text/plain": [
       "0        2018-10-19\n",
       "1        2019-05-21\n",
       "2         no review\n",
       "3        2019-07-05\n",
       "4        2018-11-19\n",
       "            ...    \n",
       "48890     no review\n",
       "48891     no review\n",
       "48892     no review\n",
       "48893     no review\n",
       "48894     no review\n",
       "Name: last_review, Length: 48895, dtype: object"
      ]
     },
     "execution_count": 10,
     "metadata": {},
     "output_type": "execute_result"
    }
   ],
   "source": [
    "# Fill missing last_review with \"no review\"\n",
    "df['last_review'].fillna(\"no review\")"
   ]
  },
  {
   "cell_type": "code",
   "execution_count": 11,
   "id": "6d18f01f-c00a-4660-ab14-eb69d0b2ac22",
   "metadata": {},
   "outputs": [],
   "source": [
    "# 2. Remove Duplicates\n",
    "df = df.drop_duplicates()"
   ]
  },
  {
   "cell_type": "code",
   "execution_count": 12,
   "id": "ba7c78dd-5424-45d3-a29b-8b889559f8ae",
   "metadata": {},
   "outputs": [],
   "source": [
    "# 3. Standardization\n",
    "\n",
    "# Convert column names to lowercase\n",
    "df.columns = df.columns.str.strip().str.lower()\n"
   ]
  },
  {
   "cell_type": "code",
   "execution_count": 13,
   "id": "02d15947-0dc0-4a12-80d2-1dca0785f0c8",
   "metadata": {},
   "outputs": [],
   "source": [
    "# Clean text columns\n",
    "for col in df.select_dtypes(include=['object']).columns:\n",
    "    df[col] = df[col].astype(str).str.strip().str.lower()"
   ]
  },
  {
   "cell_type": "code",
   "execution_count": 14,
   "id": "d098c215-4fbb-4035-8f1e-d8c219a33905",
   "metadata": {},
   "outputs": [],
   "source": [
    "# 4. Outlier Detection & Handling\n",
    "\n",
    "# Remove listings with unrealistic prices (> $1000)\n",
    "df = df[df['price'] <= 1000]"
   ]
  },
  {
   "cell_type": "code",
   "execution_count": 15,
   "id": "b8672e28-c6f4-45f7-8377-0c52be3137d8",
   "metadata": {},
   "outputs": [],
   "source": [
    "# Remove listings with unrealistic minimum_nights (> 365 days)\n",
    "df = df[df['minimum_nights'] <= 365]"
   ]
  },
  {
   "cell_type": "code",
   "execution_count": 16,
   "id": "6bbae1fb-c477-42db-8063-06569f3d6f97",
   "metadata": {},
   "outputs": [
    {
     "name": "stdout",
     "output_type": "stream",
     "text": [
      "\n",
      "✅ Cleaning Completed!\n",
      "Cleaned Dataset Shape: (48642, 16)\n",
      "Remaining Missing Values: 0\n"
     ]
    }
   ],
   "source": [
    "# Final Results\n",
    "# -----------------------------\n",
    "print(\"\\n✅ Cleaning Completed!\")\n",
    "print(\"Cleaned Dataset Shape:\", df.shape)\n",
    "print(\"Remaining Missing Values:\", df.isnull().sum().sum())"
   ]
  },
  {
   "cell_type": "code",
   "execution_count": 17,
   "id": "b39e5b40-f7a2-4360-a44d-8685bf52ee7b",
   "metadata": {},
   "outputs": [
    {
     "name": "stdout",
     "output_type": "stream",
     "text": [
      "\n",
      "Sample Cleaned Data:\n",
      "      id                                              name  host_id  \\\n",
      "0  2539                clean & quiet apt home by the park     2787   \n",
      "1  2595                             skylit midtown castle     2845   \n",
      "2  3647               the village of harlem....new york !     4632   \n",
      "3  3831                   cozy entire floor of brownstone     4869   \n",
      "4  5022  entire apt: spacious studio/loft by central park     7192   \n",
      "\n",
      "     host_name neighbourhood_group neighbourhood  latitude  longitude  \\\n",
      "0         john            brooklyn    kensington  40.64749  -73.97237   \n",
      "1     jennifer           manhattan       midtown  40.75362  -73.98377   \n",
      "2    elisabeth           manhattan        harlem  40.80902  -73.94190   \n",
      "3  lisaroxanne            brooklyn  clinton hill  40.68514  -73.95976   \n",
      "4        laura           manhattan   east harlem  40.79851  -73.94399   \n",
      "\n",
      "         room_type  price  minimum_nights  number_of_reviews last_review  \\\n",
      "0     private room    149               1                  9  2018-10-19   \n",
      "1  entire home/apt    225               1                 45  2019-05-21   \n",
      "2     private room    150               3                  0   no review   \n",
      "3  entire home/apt     89               1                270  2019-07-05   \n",
      "4  entire home/apt     80              10                  9  2018-11-19   \n",
      "\n",
      "   reviews_per_month  calculated_host_listings_count  availability_365  \n",
      "0           0.210000                               6               365  \n",
      "1           0.380000                               2               355  \n",
      "2           1.373221                               1               365  \n",
      "3           4.640000                               1               194  \n",
      "4           0.100000                               1                 0  \n"
     ]
    }
   ],
   "source": [
    "# Show sample\n",
    "print(\"\\nSample Cleaned Data:\\n\", df.head())"
   ]
  },
  {
   "cell_type": "code",
   "execution_count": null,
   "id": "0f98ead0-aa5c-43a2-9bd9-fbc9f8cea1f5",
   "metadata": {},
   "outputs": [],
   "source": []
  }
 ],
 "metadata": {
  "kernelspec": {
   "display_name": "Python 3 (ipykernel)",
   "language": "python",
   "name": "python3"
  },
  "language_info": {
   "codemirror_mode": {
    "name": "ipython",
    "version": 3
   },
   "file_extension": ".py",
   "mimetype": "text/x-python",
   "name": "python",
   "nbconvert_exporter": "python",
   "pygments_lexer": "ipython3",
   "version": "3.12.2"
  }
 },
 "nbformat": 4,
 "nbformat_minor": 5
}
